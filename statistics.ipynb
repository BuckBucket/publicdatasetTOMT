{
 "cells": [
  {
   "cell_type": "code",
   "execution_count": 1,
   "metadata": {},
   "outputs": [
    {
     "name": "stderr",
     "output_type": "stream",
     "text": [
      "/Users/sam/.pyenv/versions/3.6.5/envs/tomt-dataset/lib/python3.6/site-packages/pandas/compat/__init__.py:85: UserWarning: Could not import the lzma module. Your installed Python is incomplete. Attempting to use lzma compression will result in a RuntimeError.\n",
      "  warnings.warn(msg)\n",
      "/Users/sam/.pyenv/versions/3.6.5/envs/tomt-dataset/lib/python3.6/site-packages/pandas/compat/__init__.py:85: UserWarning: Could not import the lzma module. Your installed Python is incomplete. Attempting to use lzma compression will result in a RuntimeError.\n",
      "  warnings.warn(msg)\n"
     ]
    }
   ],
   "source": [
    "import os\n",
    "import re\n",
    "import json\n",
    "import shutil\n",
    "import random\n",
    "import traceback\n",
    "import pickle as pkl\n",
    "from datetime import datetime\n",
    "from collections import Counter\n",
    "\n",
    "import pytz\n",
    "import numpy as np\n",
    "import pandas as pd\n",
    "from tqdm import tqdm\n",
    "import matplotlib.pyplot as plt\n",
    "\n",
    "import common\n",
    "\n",
    "%matplotlib inline"
   ]
  },
  {
   "cell_type": "code",
   "execution_count": 2,
   "metadata": {},
   "outputs": [],
   "source": [
    "plt.style.use('seaborn-colorblind')"
   ]
  },
  {
   "cell_type": "code",
   "execution_count": 3,
   "metadata": {},
   "outputs": [],
   "source": [
    "folder = \"./2018-2019/\""
   ]
  },
  {
   "cell_type": "code",
   "execution_count": 4,
   "metadata": {},
   "outputs": [
    {
     "name": "stderr",
     "output_type": "stream",
     "text": [
      "100%|██████████| 211078/211078 [05:08<00:00, 684.65it/s]\n"
     ]
    }
   ],
   "source": [
    "status_dict = common.load_meta(\"status_dict\")\n",
    "category_dict = common.load_meta(\"category_dict\")\n",
    "clean_rows = common.load_clean_rows(folder, status_dict, category_dict)\n",
    "clean_df = pd.DataFrame([vars(r) for r in clean_rows])"
   ]
  },
  {
   "cell_type": "code",
   "execution_count": 20,
   "metadata": {},
   "outputs": [
    {
     "data": {
      "text/html": [
       "<div>\n",
       "<style scoped>\n",
       "    .dataframe tbody tr th:only-of-type {\n",
       "        vertical-align: middle;\n",
       "    }\n",
       "\n",
       "    .dataframe tbody tr th {\n",
       "        vertical-align: top;\n",
       "    }\n",
       "\n",
       "    .dataframe thead th {\n",
       "        text-align: right;\n",
       "    }\n",
       "</style>\n",
       "<table border=\"1\" class=\"dataframe\">\n",
       "  <thead>\n",
       "    <tr style=\"text-align: right;\">\n",
       "      <th></th>\n",
       "      <th>status</th>\n",
       "      <th>submission_id</th>\n",
       "      <th>category</th>\n",
       "      <th>original_category</th>\n",
       "      <th>date</th>\n",
       "      <th>hour</th>\n",
       "      <th>n_top_replies</th>\n",
       "      <th>n_total_replies</th>\n",
       "      <th>url</th>\n",
       "      <th>imdb_links</th>\n",
       "      <th>other_links</th>\n",
       "    </tr>\n",
       "  </thead>\n",
       "  <tbody>\n",
       "    <tr>\n",
       "      <th>9</th>\n",
       "      <td>solved</td>\n",
       "      <td>cn9jlh</td>\n",
       "      <td>movie/tv</td>\n",
       "      <td>movie/tv</td>\n",
       "      <td>07-08-2019</td>\n",
       "      <td>18</td>\n",
       "      <td>5</td>\n",
       "      <td>13</td>\n",
       "      <td>https://www.reddit.com/r/tipofmytongue/comment...</td>\n",
       "      <td>[]</td>\n",
       "      <td>[]</td>\n",
       "    </tr>\n",
       "    <tr>\n",
       "      <th>13</th>\n",
       "      <td>unknown</td>\n",
       "      <td>a5vjbs</td>\n",
       "      <td>movie/tv</td>\n",
       "      <td>movie/tv</td>\n",
       "      <td>13-12-2018</td>\n",
       "      <td>17</td>\n",
       "      <td>1</td>\n",
       "      <td>2</td>\n",
       "      <td>https://www.reddit.com/r/tipofmytongue/comment...</td>\n",
       "      <td>[https://www.imdb.com/title/tt5742374/?ref_=nv...</td>\n",
       "      <td>[]</td>\n",
       "    </tr>\n",
       "    <tr>\n",
       "      <th>26</th>\n",
       "      <td>solved</td>\n",
       "      <td>ah6njc</td>\n",
       "      <td>movie/tv</td>\n",
       "      <td>movie/tv</td>\n",
       "      <td>18-01-2019</td>\n",
       "      <td>4</td>\n",
       "      <td>3</td>\n",
       "      <td>8</td>\n",
       "      <td>https://www.reddit.com/r/tipofmytongue/comment...</td>\n",
       "      <td>[]</td>\n",
       "      <td>[]</td>\n",
       "    </tr>\n",
       "  </tbody>\n",
       "</table>\n",
       "</div>"
      ],
      "text/plain": [
       "     status submission_id  category original_category        date  hour  \\\n",
       "9    solved        cn9jlh  movie/tv          movie/tv  07-08-2019    18   \n",
       "13  unknown        a5vjbs  movie/tv          movie/tv  13-12-2018    17   \n",
       "26   solved        ah6njc  movie/tv          movie/tv  18-01-2019     4   \n",
       "\n",
       "    n_top_replies  n_total_replies  \\\n",
       "9               5               13   \n",
       "13              1                2   \n",
       "26              3                8   \n",
       "\n",
       "                                                  url  \\\n",
       "9   https://www.reddit.com/r/tipofmytongue/comment...   \n",
       "13  https://www.reddit.com/r/tipofmytongue/comment...   \n",
       "26  https://www.reddit.com/r/tipofmytongue/comment...   \n",
       "\n",
       "                                           imdb_links other_links  \n",
       "9                                                  []          []  \n",
       "13  [https://www.imdb.com/title/tt5742374/?ref_=nv...          []  \n",
       "26                                                 []          []  "
      ]
     },
     "execution_count": 20,
     "metadata": {},
     "output_type": "execute_result"
    }
   ],
   "source": [
    "moviedf = clean_df[clean_df.category == \"movie/tv\"]\n",
    "moviedf.head(3)"
   ]
  },
  {
   "cell_type": "code",
   "execution_count": 16,
   "metadata": {},
   "outputs": [
    {
     "data": {
      "text/plain": [
       "20330"
      ]
     },
     "execution_count": 16,
     "metadata": {},
     "output_type": "execute_result"
    }
   ],
   "source": [
    "solved_moviedf = moviedf[moviedf.status == \"solved\"]\n",
    "len(solved_moviedf)"
   ]
  },
  {
   "cell_type": "code",
   "execution_count": 21,
   "metadata": {},
   "outputs": [
    {
     "data": {
      "text/plain": [
       "[('https://www.imdb.com/title/tt1706593/', 8),\n",
       " ('https://www.imdb.com/title/tt1928340/', 6),\n",
       " ('https://www.imdb.com/title/tt1637688/', 5),\n",
       " ('https://www.imdb.com/title/tt0406375/', 5),\n",
       " ('https://www.imdb.com/title/tt3986820/', 5),\n",
       " ('https://www.imdb.com/title/tt0416236/', 5),\n",
       " ('https://www.imdb.com/title/tt0113538/', 4),\n",
       " ('https://www.imdb.com/title/tt0366780/', 4),\n",
       " ('https://www.imdb.com/title/tt5886440/', 4),\n",
       " ('https://www.imdb.com/title/tt0448011/', 4)]"
      ]
     },
     "execution_count": 21,
     "metadata": {},
     "output_type": "execute_result"
    }
   ],
   "source": [
    "all_imdb_movies = Counter()\n",
    "n_posts_with_imdb = 0\n",
    "for m in solved_moviedf.imdb_links.values:\n",
    "    all_imdb_movies += Counter(m)\n",
    "    n_posts_with_imdb += 1 if len(m) > 0 else 0\n",
    "    \n",
    "all_imdb_movies.most_common(10)"
   ]
  },
  {
   "cell_type": "code",
   "execution_count": 22,
   "metadata": {},
   "outputs": [
    {
     "data": {
      "text/plain": [
       "(5467, 4596)"
      ]
     },
     "execution_count": 22,
     "metadata": {},
     "output_type": "execute_result"
    }
   ],
   "source": [
    "len(all_imdb_movies), n_posts_with_imdb"
   ]
  },
  {
   "cell_type": "code",
   "execution_count": 18,
   "metadata": {},
   "outputs": [
    {
     "data": {
      "text/plain": [
       "[('https://www.reddit.com/r/tipofmytongue/comments/6w64rm/mod_reply_solved_to_the_person_who_solves_your/#nocss',\n",
       "  921),\n",
       " ('https://www.reddit.com/r/tipofmytongue/comments/6w64rm/mod_reply_solved_to_the_person_who_solves_your/?utm_source=share&utm_medium=web2x',\n",
       "  903),\n",
       " ('https://old.reddit.com/r/tipofmytongue/comments/6w64rm#nocss', 100),\n",
       " ('https://www.reddit.com/r/tipofmytongue/comments/6w64rm/mod_reply_solved_to_the_person_who_solves_your/',\n",
       "  53),\n",
       " ('https://www.reddit.com/r/tipofmytongue/wiki/faq', 52),\n",
       " ('https://www.reddit.com/r/tipofmytongue/wiki/rules', 51),\n",
       " ('https://reddit.com/message/compose?to=/r/tipofmytongue', 51),\n",
       " ('https://www.reddit.com/r/tipofmytongue/wiki/rules#wiki_3._title_format_.2B_body.',\n",
       "  49),\n",
       " ('https://old.reddit.com/r/tipofmytongue/comments/clmizq/tomtseries_2000s_a_doctor_is_examing_a_scary/',\n",
       "  35),\n",
       " ('https://tvtropes.org/pmwiki/pmwiki.php/WesternAnimation/MagiNation', 11)]"
      ]
     },
     "execution_count": 18,
     "metadata": {},
     "output_type": "execute_result"
    }
   ],
   "source": [
    "all_other_links = Counter()\n",
    "for m in solved_moviedf.other_links.values:\n",
    "    all_other_links += Counter(m)\n",
    "all_other_links.most_common(10)"
   ]
  },
  {
   "cell_type": "code",
   "execution_count": 11,
   "metadata": {},
   "outputs": [],
   "source": [
    "# make a subset of data\n",
    "new_folder = \"./2018-2019_solved_movies\"\n",
    "os.makedirs(new_folder, exist_ok=True)\n",
    "for submission_id in solved_moviedf.submission_id.values:\n",
    "    src = os.path.join(folder, submission_id + \".pkl\")\n",
    "    dst = os.path.join(new_folder, submission_id + \".pkl\")\n",
    "    \n",
    "    shutil.copy(src, dst)"
   ]
  },
  {
   "cell_type": "code",
   "execution_count": 12,
   "metadata": {},
   "outputs": [
    {
     "data": {
      "text/plain": [
       "<matplotlib.axes._subplots.AxesSubplot at 0x11fcfbd30>"
      ]
     },
     "execution_count": 12,
     "metadata": {},
     "output_type": "execute_result"
    },
    {
     "data": {
      "image/png": "[encoded data removed]",
      "text/plain": [
       "<Figure size 432x288 with 1 Axes>"
      ]
     },
     "metadata": {
      "needs_background": "light"
     },
     "output_type": "display_data"
    }
   ],
   "source": [
    "clean_df.status.value_counts().plot(kind=\"barh\")"
   ]
  },
  {
   "cell_type": "code",
   "execution_count": 13,
   "metadata": {},
   "outputs": [
    {
     "data": {
      "text/plain": [
       "<matplotlib.axes._subplots.AxesSubplot at 0x11fde3748>"
      ]
     },
     "execution_count": 13,
     "metadata": {},
     "output_type": "execute_result"
    },
    {
     "data": {
      "image/png": "[encoded data removed]",
      "text/plain": [
       "<Figure size 432x288 with 1 Axes>"
      ]
     },
     "metadata": {
      "needs_background": "light"
     },
     "output_type": "display_data"
    }
   ],
   "source": [
    "clean_df.category.value_counts().plot(kind=\"barh\")"
   ]
  },
  {
   "cell_type": "code",
   "execution_count": 14,
   "metadata": {},
   "outputs": [],
   "source": [
    "sorted_by_time = clean_df.assign(datetime = clean_df.date.apply(lambda _: datetime.strptime(_, \"%d-%m-%Y\")))\n",
    "sorted_by_time['datetime'] = pd.to_datetime(sorted_by_time['datetime'])\n",
    "sorted_by_time = sorted_by_time.assign(month = sorted_by_time.datetime.dt.month,\n",
    "                                       day_of_week = sorted_by_time.datetime.dt.day_name())"
   ]
  },
  {
   "cell_type": "code",
   "execution_count": 15,
   "metadata": {},
   "outputs": [],
   "source": [
    "def plot_bar_sorted(labels, values, sort_labels=False,\n",
    "                    sort_values=False, sort_key=None,\n",
    "                    reverse=False, barh=False, figsize=None):\n",
    "    assert len(labels) == len(values)\n",
    "    zipped = zip(labels, values)\n",
    "    \n",
    "    if sort_labels:\n",
    "        sort_idx = 0\n",
    "    elif sort_values:\n",
    "        sort_idx = 1\n",
    "    else:\n",
    "        sort_idx = None\n",
    "        \n",
    "    if sort_key:\n",
    "        zipped = sorted(zipped, key=sort_key, reverse=reverse)\n",
    "    elif sort_idx:\n",
    "        zipped = sorted(zipped, key=lambda _: _[sort_idx], reverse=reverse)\n",
    "    \n",
    "    if not figsize:\n",
    "        figsize=(10, 10)\n",
    "    plt.figure(figsize=figsize)\n",
    "    \n",
    "    bar_fn = plt.barh if barh else plt.bar\n",
    "    \n",
    "    \n",
    "    zipped = (list(zipped))\n",
    "    \n",
    "    bar_fn([_[0] for _ in zipped],\n",
    "            [_[1] for _ in zipped])\n",
    "    \n",
    "    "
   ]
  },
  {
   "cell_type": "code",
   "execution_count": 16,
   "metadata": {},
   "outputs": [
    {
     "data": {
      "image/png": "[encoded data removed]",
      "text/plain": [
       "<Figure size 720x720 with 1 Axes>"
      ]
     },
     "metadata": {
      "needs_background": "light"
     },
     "output_type": "display_data"
    }
   ],
   "source": [
    "# plot month distribution\n",
    "value_counts = sorted_by_time.month.value_counts()\n",
    "index = value_counts.index.values\n",
    "values = value_counts.values\n",
    "\n",
    "plot_bar_sorted(\n",
    "    index,\n",
    "    values, sort_labels=True,    \n",
    ")"
   ]
  },
  {
   "cell_type": "code",
   "execution_count": 17,
   "metadata": {},
   "outputs": [
    {
     "data": {
      "image/png": "[encoded data removed]",
      "text/plain": [
       "<Figure size 720x2160 with 1 Axes>"
      ]
     },
     "metadata": {
      "needs_background": "light"
     },
     "output_type": "display_data"
    }
   ],
   "source": [
    "value_counts = sorted_by_time.day_of_week.value_counts()\n",
    "index = value_counts.index.values\n",
    "values = value_counts.values\n",
    "\n",
    "plot_bar_sorted(\n",
    "    index,\n",
    "    values, sort_labels=True,\n",
    "    barh=True,\n",
    "    figsize=(10, 30)\n",
    ")"
   ]
  },
  {
   "cell_type": "code",
   "execution_count": 18,
   "metadata": {},
   "outputs": [
    {
     "data": {
      "image/png": "[encoded data removed]",
      "text/plain": [
       "<Figure size 1728x720 with 1 Axes>"
      ]
     },
     "metadata": {
      "needs_background": "light"
     },
     "output_type": "display_data"
    }
   ],
   "source": [
    "value_counts = sorted_by_time.hour.value_counts()\n",
    "index = value_counts.index.values\n",
    "values = value_counts.values\n",
    "\n",
    "plot_bar_sorted(\n",
    "    index,\n",
    "    values, sort_labels=True, reverse=True,\n",
    "    barh=False,\n",
    "    figsize=(24, 10)\n",
    ")"
   ]
  },
  {
   "cell_type": "code",
   "execution_count": null,
   "metadata": {},
   "outputs": [],
   "source": []
  },
  {
   "cell_type": "code",
   "execution_count": 19,
   "metadata": {},
   "outputs": [
    {
     "data": {
      "text/plain": [
       "<matplotlib.axes._subplots.AxesSubplot at 0x125ccf860>"
      ]
     },
     "execution_count": 19,
     "metadata": {},
     "output_type": "execute_result"
    },
    {
     "data": {
      "image/png": "[encoded data removed]",
      "text/plain": [
       "<Figure size 1080x720 with 1 Axes>"
      ]
     },
     "metadata": {
      "needs_background": "light"
     },
     "output_type": "display_data"
    }
   ],
   "source": [
    "plt.figure(figsize=(15, 10))\n",
    "moviedf.status.value_counts().plot(kind=\"barh\")"
   ]
  },
  {
   "cell_type": "code",
   "execution_count": 20,
   "metadata": {},
   "outputs": [
    {
     "data": {
      "image/png": "[encoded data removed]",
      "text/plain": [
       "<Figure size 1728x720 with 1 Axes>"
      ]
     },
     "metadata": {
      "needs_background": "light"
     },
     "output_type": "display_data"
    }
   ],
   "source": [
    "value_counts = solved_moviedf.n_total_replies.value_counts()\n",
    "index = value_counts.index.values\n",
    "values = value_counts.values\n",
    "\n",
    "plot_bar_sorted(\n",
    "    index,\n",
    "    values, sort_labels=True, reverse=True,\n",
    "    barh=False,\n",
    "    figsize=(24, 10)\n",
    ")\n",
    "# solved_moviedf.n_total_replies.value_counts().plot(kind=\"barh\")"
   ]
  },
  {
   "cell_type": "code",
   "execution_count": 21,
   "metadata": {},
   "outputs": [
    {
     "data": {
      "image/png": "[encoded data removed]",
      "text/plain": [
       "<Figure size 1728x720 with 1 Axes>"
      ]
     },
     "metadata": {
      "needs_background": "light"
     },
     "output_type": "display_data"
    }
   ],
   "source": [
    "value_counts = solved_moviedf.n_top_replies.value_counts()\n",
    "index = value_counts.index.values\n",
    "values = value_counts.values\n",
    "\n",
    "plot_bar_sorted(\n",
    "    index,\n",
    "    values, sort_labels=True, reverse=True,\n",
    "    barh=False,\n",
    "    figsize=(24, 10)\n",
    ")"
   ]
  },
  {
   "cell_type": "code",
   "execution_count": 22,
   "metadata": {},
   "outputs": [
    {
     "data": {
      "text/plain": [
       "<matplotlib.axes._subplots.AxesSubplot at 0x125cdd828>"
      ]
     },
     "execution_count": 22,
     "metadata": {},
     "output_type": "execute_result"
    },
    {
     "data": {
      "image/png": "[encoded data removed]",
      "text/plain": [
       "<Figure size 432x288 with 1 Axes>"
      ]
     },
     "metadata": {
      "needs_background": "light"
     },
     "output_type": "display_data"
    }
   ],
   "source": [
    "solved_moviedf.n_top_replies.plot(kind=\"box\")"
   ]
  },
  {
   "cell_type": "code",
   "execution_count": 24,
   "metadata": {},
   "outputs": [
    {
     "data": {
      "text/plain": [
       "<matplotlib.axes._subplots.AxesSubplot at 0x11fccca20>"
      ]
     },
     "execution_count": 24,
     "metadata": {},
     "output_type": "execute_result"
    },
    {
     "data": {
      "image/png": "[encoded data removed]",
      "text/plain": [
       "<Figure size 432x288 with 1 Axes>"
      ]
     },
     "metadata": {
      "needs_background": "light"
     },
     "output_type": "display_data"
    }
   ],
   "source": [
    "solved_moviedf.n_top_replies.plot(kind=\"box\", showfliers=False)"
   ]
  },
  {
   "cell_type": "code",
   "execution_count": 23,
   "metadata": {},
   "outputs": [
    {
     "data": {
      "text/plain": [
       "<matplotlib.axes._subplots.AxesSubplot at 0x11fdb51d0>"
      ]
     },
     "execution_count": 23,
     "metadata": {},
     "output_type": "execute_result"
    },
    {
     "data": {
      "image/png": "[encoded data removed]",
      "text/plain": [
       "<Figure size 432x288 with 1 Axes>"
      ]
     },
     "metadata": {
      "needs_background": "light"
     },
     "output_type": "display_data"
    }
   ],
   "source": [
    "solved_moviedf.n_total_replies.plot(kind=\"box\")"
   ]
  },
  {
   "cell_type": "code",
   "execution_count": 25,
   "metadata": {},
   "outputs": [
    {
     "data": {
      "text/plain": [
       "<matplotlib.axes._subplots.AxesSubplot at 0x11fd21358>"
      ]
     },
     "execution_count": 25,
     "metadata": {},
     "output_type": "execute_result"
    },
    {
     "data": {
      "image/png": "[encoded data removed]",
      "text/plain": [
       "<Figure size 432x288 with 1 Axes>"
      ]
     },
     "metadata": {
      "needs_background": "light"
     },
     "output_type": "display_data"
    }
   ],
   "source": [
    "solved_moviedf.n_total_replies.plot(kind=\"box\", showfliers=False)"
   ]
  },
  {
   "cell_type": "code",
   "execution_count": 26,
   "metadata": {},
   "outputs": [
    {
     "data": {
      "text/plain": [
       "(7.015199212985736, 6.0, 6.310339049526555)"
      ]
     },
     "execution_count": 26,
     "metadata": {},
     "output_type": "execute_result"
    }
   ],
   "source": [
    "total_replies = solved_moviedf.n_total_replies.values\n",
    "np.mean(total_replies), np.median(total_replies), np.std(total_replies)"
   ]
  },
  {
   "cell_type": "code",
   "execution_count": 27,
   "metadata": {},
   "outputs": [
    {
     "data": {
      "text/plain": [
       "(2.905853418593212, 2.0, 2.6310586133000036)"
      ]
     },
     "execution_count": 27,
     "metadata": {},
     "output_type": "execute_result"
    }
   ],
   "source": [
    "top_level_replies = solved_moviedf.n_top_replies.values\n",
    "np.mean(top_level_replies), np.median(top_level_replies), np.std(top_level_replies)"
   ]
  }
 ],
 "metadata": {
  "kernelspec": {
   "display_name": "Python 3",
   "language": "python",
   "name": "python3"
  },
  "language_info": {
   "codemirror_mode": {
    "name": "ipython",
    "version": 3
   },
   "file_extension": ".py",
   "mimetype": "text/x-python",
   "name": "python",
   "nbconvert_exporter": "python",
   "pygments_lexer": "ipython3",
   "version": "3.7.4"
  }
 },
 "nbformat": 4,
 "nbformat_minor": 2
}
