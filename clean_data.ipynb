{
 "cells": [
  {
   "cell_type": "code",
   "execution_count": 1,
   "metadata": {},
   "outputs": [
    {
     "name": "stderr",
     "output_type": "stream",
     "text": [
      "/Users/sam/.pyenv/versions/3.6.5/envs/tomt-dataset/lib/python3.6/site-packages/pandas/compat/__init__.py:85: UserWarning: Could not import the lzma module. Your installed Python is incomplete. Attempting to use lzma compression will result in a RuntimeError.\n",
      "  warnings.warn(msg)\n",
      "/Users/sam/.pyenv/versions/3.6.5/envs/tomt-dataset/lib/python3.6/site-packages/pandas/compat/__init__.py:85: UserWarning: Could not import the lzma module. Your installed Python is incomplete. Attempting to use lzma compression will result in a RuntimeError.\n",
      "  warnings.warn(msg)\n"
     ]
    }
   ],
   "source": [
    "import os\n",
    "import re\n",
    "import json\n",
    "import random\n",
    "import traceback\n",
    "import pickle as pkl\n",
    "from datetime import datetime\n",
    "\n",
    "import pytz\n",
    "import numpy as np\n",
    "import pandas as pd\n",
    "from tqdm import tqdm\n",
    "import matplotlib.pyplot as plt\n",
    "\n",
    "\n",
    "from download_submissions import pprint_tree"
   ]
  },
  {
   "cell_type": "code",
   "execution_count": 2,
   "metadata": {},
   "outputs": [],
   "source": [
    "%matplotlib inline"
   ]
  },
  {
   "cell_type": "code",
   "execution_count": 3,
   "metadata": {},
   "outputs": [],
   "source": [
    "plt.style.use('seaborn-colorblind')"
   ]
  },
  {
   "cell_type": "code",
   "execution_count": 4,
   "metadata": {},
   "outputs": [],
   "source": [
    "from common import load_submission, load_submissions, load_rows\n",
    "from common import Row"
   ]
  },
  {
   "cell_type": "code",
   "execution_count": 6,
   "metadata": {
    "scrolled": true
   },
   "outputs": [
    {
     "name": "stderr",
     "output_type": "stream",
     "text": [
      "100%|██████████| 211078/211078 [03:50<00:00, 915.02it/s] \n"
     ]
    }
   ],
   "source": [
    "folder = \"./2018-2019/\"\n",
    "rows = load_rows(folder)"
   ]
  },
  {
   "cell_type": "code",
   "execution_count": 7,
   "metadata": {},
   "outputs": [],
   "source": [
    "df = pd.DataFrame([vars(r) for r in rows])"
   ]
  },
  {
   "cell_type": "code",
   "execution_count": 8,
   "metadata": {},
   "outputs": [
    {
     "data": {
      "text/plain": [
       "Solved!                           70565\n",
       "removed                           57557\n",
       "unknown                           43778\n",
       "Open                              26374\n",
       "Open.                              5397\n",
       "Solved                             3712\n",
       "Solved.                            3538\n",
       "Pending                             147\n",
       "Announcement                          4\n",
       "Lazy music                            2\n",
       "Belongs on different sub              1\n",
       "Lacking info                          1\n",
       "Solved: \"Found Footage\" (2016)        1\n",
       "deleted by OP                         1\n",
       "Name: status, dtype: int64"
      ]
     },
     "execution_count": 8,
     "metadata": {},
     "output_type": "execute_result"
    }
   ],
   "source": [
    "# view all the statuses\n",
    "df.status.value_counts()"
   ]
  },
  {
   "cell_type": "code",
   "execution_count": 9,
   "metadata": {},
   "outputs": [
    {
     "data": {
      "text/plain": [
       "{'Solved!': 'solved',\n",
       " 'Solved': 'solved',\n",
       " 'Solved.': 'solved',\n",
       " 'removed': 'removed',\n",
       " 'deleted by OP': 'removed',\n",
       " 'Open': 'open',\n",
       " 'Open.': 'open',\n",
       " 'Pending': 'other',\n",
       " 'Announcement': 'other',\n",
       " 'Lazy music': 'other',\n",
       " 'Belongs on different sub': 'other',\n",
       " 'Solved: \"Found Footage\" (2016)': 'other',\n",
       " 'Lacking info': 'other',\n",
       " 'unknown': 'unknown'}"
      ]
     },
     "execution_count": 9,
     "metadata": {},
     "output_type": "execute_result"
    }
   ],
   "source": [
    "# build map \n",
    "status_dict_helper = {\n",
    "    \"solved\": (\"Solved!\", \"Solved\", \"Solved.\"),\n",
    "    \"removed\": (\"removed\", \"deleted by OP\"),\n",
    "    \"open\": (\"Open\", \"Open.\"),\n",
    "    \"other\": (\"Pending\", \"Announcement\", \"Lazy music\",\n",
    "                \"Belongs on different sub\", 'Solved: \"Found Footage\" (2016)',\n",
    "               \"Lacking info\"),\n",
    "    \"unknown\": (\"unknown\", )\n",
    "}\n",
    "# invert dict for ease of use\n",
    "status_dict = {}\n",
    "for key, values in status_dict_helper.items():\n",
    "    for v in values:\n",
    "        status_dict[v] = key\n",
    "\n",
    "for status in np.unique(df.status.values):\n",
    "    status_dict[status] \n",
    "        \n",
    "status_dict"
   ]
  },
  {
   "cell_type": "code",
   "execution_count": 10,
   "metadata": {},
   "outputs": [],
   "source": [
    "# save status_dict\n",
    "with open(\"./meta_data/status_dict.json\", \"w\") as writer:\n",
    "    json.dump(status_dict, writer)"
   ]
  },
  {
   "cell_type": "code",
   "execution_count": 11,
   "metadata": {},
   "outputs": [
    {
     "name": "stdout",
     "output_type": "stream",
     "text": [
      "Total Categories: 13461\n"
     ]
    }
   ],
   "source": [
    "# view all the categories\n",
    "print(f\"Total Categories: {len(np.unique(df.category.values))}\")"
   ]
  },
  {
   "cell_type": "code",
   "execution_count": 12,
   "metadata": {},
   "outputs": [],
   "source": [
    "# too many! so pick the 100 most frequent\n",
    "from collections import Counter\n",
    "categories = set(df.category.apply(lambda _: _.lower()).values)\n",
    "category_counts = Counter(df.category.apply(lambda _: _.lower()).values)\n",
    "# focus on only the 100 most commonly occuring categories\n",
    "with open(\"most_freq_categories.csv\", \"w\") as writer:\n",
    "    for k, _ in category_counts.most_common(100):\n",
    "        writer.write(f\"{k}\\n\")"
   ]
  },
  {
   "cell_type": "code",
   "execution_count": 13,
   "metadata": {},
   "outputs": [],
   "source": [
    "# these were manually categorized and saved in \n",
    "manual_categorization = pd.read_csv(\"./TOMT_Dataset_Categorization.tsv\", sep=\"\\t\")"
   ]
  },
  {
   "cell_type": "code",
   "execution_count": 14,
   "metadata": {},
   "outputs": [
    {
     "data": {
      "text/plain": [
       "{'music': 'music',\n",
       " 'song': 'music',\n",
       " 'album': 'music',\n",
       " 'band': 'music',\n",
       " \"children's book\": 'music',\n",
       " 'song/music video': 'music',\n",
       " 'musicvideo': 'music',\n",
       " 'book': 'book',\n",
       " 'novel': 'book',\n",
       " 'short story': 'book',\n",
       " 'story': 'book',\n",
       " 'webcomic': 'book',\n",
       " 'manga': 'book',\n",
       " 'article': 'book',\n",
       " 'book series': 'book',\n",
       " 'children’s book': 'book',\n",
       " 'books': 'book',\n",
       " 'movie': 'movie/tv',\n",
       " 'tv show': 'movie/tv',\n",
       " 'cartoon': 'movie/tv',\n",
       " 'tv': 'movie/tv',\n",
       " 'show': 'movie/tv',\n",
       " 'anime': 'movie/tv',\n",
       " 'film': 'movie/tv',\n",
       " 'movies': 'movie/tv',\n",
       " 'movie/tv': 'movie/tv',\n",
       " 'animation': 'movie/tv',\n",
       " 'tv series': 'movie/tv',\n",
       " 'documentary': 'movie/tv',\n",
       " 'movie/tv show': 'movie/tv',\n",
       " 'short film': 'movie/tv',\n",
       " 'tvshow': 'movie/tv',\n",
       " 'movie or tv show': 'movie/tv',\n",
       " 'movie?': 'movie/tv',\n",
       " 'movie/show': 'movie/tv',\n",
       " 'horror movie': 'movie/tv',\n",
       " 'animated movie': 'movie/tv',\n",
       " 'tv episode': 'movie/tv',\n",
       " 'tv/movie': 'movie/tv',\n",
       " 'television': 'movie/tv',\n",
       " 'kids show': 'movie/tv',\n",
       " 'kids tv show': 'movie/tv',\n",
       " 'movie or tv': 'movie/tv',\n",
       " 'movie or show': 'movie/tv',\n",
       " 'game': 'game',\n",
       " 'videogame': 'game',\n",
       " 'pc game': 'game',\n",
       " 'flash game': 'game',\n",
       " 'computer game': 'game',\n",
       " 'mobile game': 'game',\n",
       " 'online game': 'game',\n",
       " 'browser game': 'game',\n",
       " 'video': 'video',\n",
       " 'music video': 'video',\n",
       " 'video game': 'video',\n",
       " 'youtube': 'video',\n",
       " 'youtube video': 'video',\n",
       " 'youtube channel': 'video',\n",
       " 'yt video': 'video',\n",
       " 'youtube series': 'video',\n",
       " 'website': 'other',\n",
       " 'meme': 'other',\n",
       " 'reddit post': 'other',\n",
       " 'word': 'other',\n",
       " 'comic': 'other',\n",
       " 'reddit comment': 'other',\n",
       " 'quote': 'other',\n",
       " 'commercial': 'other',\n",
       " 'image': 'other',\n",
       " 'gif': 'other',\n",
       " 'subreddit': 'other',\n",
       " 'toy': 'other',\n",
       " 'painting': 'other',\n",
       " 'phrase': 'other',\n",
       " 'reddit': 'other',\n",
       " 'picture': 'other',\n",
       " '2000s': 'other',\n",
       " 'vine': 'other',\n",
       " 'person': 'other',\n",
       " 'actor': 'other',\n",
       " 'post': 'other',\n",
       " 'youtuber': 'other',\n",
       " 'app': 'other',\n",
       " 'food': 'other',\n",
       " 'art': 'other',\n",
       " 'nsfw': 'other',\n",
       " 'poem': 'other',\n",
       " 'photo': 'other',\n",
       " 'podcast': 'other',\n",
       " 'artist': 'other',\n",
       " 'creepypasta': 'other',\n",
       " '2010s': 'other',\n",
       " 'actress': 'other',\n",
       " 'character': 'other',\n",
       " 'software': 'other',\n",
       " 'term': 'other',\n",
       " 'reddit thread': 'other',\n",
       " 'series': 'ambiguous',\n",
       " 'audio': 'ambiguous'}"
      ]
     },
     "execution_count": 14,
     "metadata": {},
     "output_type": "execute_result"
    }
   ],
   "source": [
    "category_dict_helper = {}\n",
    "for column in manual_categorization.columns:\n",
    "    category_dict_helper[column.lower()] = list(manual_categorization[column].dropna().values)\n",
    "category_dict = {}\n",
    "for key, values in category_dict_helper.items():\n",
    "    for v in values:\n",
    "        category_dict[v] = key\n",
    "category_dict"
   ]
  },
  {
   "cell_type": "code",
   "execution_count": 15,
   "metadata": {},
   "outputs": [],
   "source": [
    "# save status_dict\n",
    "with open(\"./meta_data/category_dict.json\", \"w\") as writer:\n",
    "    json.dump(category_dict, writer)"
   ]
  }
 ],
 "metadata": {
  "kernelspec": {
   "display_name": "Python 3",
   "language": "python",
   "name": "python3"
  },
  "language_info": {
   "codemirror_mode": {
    "name": "ipython",
    "version": 3
   },
   "file_extension": ".py",
   "mimetype": "text/x-python",
   "name": "python",
   "nbconvert_exporter": "python",
   "pygments_lexer": "ipython3",
   "version": "3.7.4"
  }
 },
 "nbformat": 4,
 "nbformat_minor": 2
}
