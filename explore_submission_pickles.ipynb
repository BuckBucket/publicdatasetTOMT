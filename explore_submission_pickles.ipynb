{
 "cells": [
  {
   "cell_type": "code",
   "execution_count": 1,
   "metadata": {},
   "outputs": [],
   "source": [
    "import os\n",
    "import random\n",
    "import pickle as pkl\n",
    "\n",
    "from download_submissions import pprint_tree"
   ]
  },
  {
   "cell_type": "code",
   "execution_count": 2,
   "metadata": {},
   "outputs": [],
   "source": [
    "def load_submission(folder, submission_id):\n",
    "    with open(os.path.join(folder, f\"{submission_id}.pkl\"), \"rb\") as reader:\n",
    "        return pkl.load(reader)\n",
    "\n",
    "def load_submissions(folder):\n",
    "    submissions = []\n",
    "    for submission_id in os.listdir(folder):\n",
    "        submission_id = submission_id.split(\".\")[0]\n",
    "        try: \n",
    "            submissions.append(load_submission(folder, submission_id))\n",
    "        except:\n",
    "            print(f\"Submission with ID: {submission_id} has an error!\")\n",
    "    return submissions"
   ]
  },
  {
   "cell_type": "code",
   "execution_count": null,
   "metadata": {},
   "outputs": [],
   "source": [
    "folder = \"./2018-2019_solved_movies/\"\n",
    "submissions = load_submissions(folder)"
   ]
  },
  {
   "cell_type": "code",
   "execution_count": null,
   "metadata": {},
   "outputs": [],
   "source": [
    "len(submissions)"
   ]
  },
  {
   "cell_type": "code",
   "execution_count": 9,
   "metadata": {},
   "outputs": [
    {
     "name": "stdout",
     "output_type": "stream",
     "text": [
      "`- 'Help would be grapely appreciated!'\n",
      "`- 'Connectables? https://www.youtube.com/watch?v=Y05raeUK1B4'\n",
      "   `- 'No, but they were clearly inspired by them. Far more junkyard-y.'\n",
      "`- \"Click [here](https://www.reddit.com/message/compose/?to=notifier-bot&subject=e4m4q5&message=Click%20%27send%27%20to%20be%20notified%20if%20OP%20marks%20%27%5BTOMT%5D%20%5BTOYS%5D%20%5B1990s%5D%20post-apocalyptic%20modular%20vehicle%20sets%2C%20with%20pieces%20that%20snap%20together%27%20as%20solved.%20You%20should%20receive%20a%20confirmation%20PM%20soon.%0A%0A----------%0A%0AMake%20sure%20the%20message%20subject%20says%20%27e4m4q5%27%20before%20sending.%0A%0AOfficial%20reddit%20app%20users%20might%20need%20to%20type%20something%20in%20the%20message%20body%20before%20the%20send%20button%20is%20enabled.%0A%0AThis%20bot%20is%20still%20in%20beta%2C%20sorry%20if%20you%20come%20across%20any%20bugs.%20PM%20u/adityapstar%20if%20you%20have%20any%20questions/comments/complaints.) if you'd like to be notified when this post is solved.\\n\\n^^Type ^^'e4m4q5' ^^in ^^the ^^message ^^subject ^^if ^^it ^^hasn't ^^already ^^been ^^filled ^^in. ^^1 ^^user ^^is ^^currently ^^subscribed ^^to ^^this ^^post.\"\n",
      "`- 'Like Knex? Or erector sets?'\n",
      "   `- \"No. Each of the modular pieces was a fully formed thing, like a plow or the body of a jeep. So far more realistic and far more polished. So, for example, you might stick the plow onto the front of the jeep, stick the jeep body on top of a tank (where the turret used to be), and then give the tank wheels instead of treads. In a finished vehicle you'd use maybe ~10 pieces in total.\"\n",
      "`- \"I used to have a few of those as well. Don't recall the name. Not sure they even had one.  \\nThey were kind of a cheap you store kind of thing.\"\n"
     ]
    }
   ],
   "source": [
    "# use submission as returned by the PRAW api as usual\n",
    "# note that this has all comments retrieved!\n",
    "# pick a submission\n",
    "submission = random.choice(submissions)\n",
    "for comment_forest in submission.comments:\n",
    "    pprint_tree(comment_forest)"
   ]
  }
 ],
 "metadata": {
  "kernelspec": {
   "display_name": "Python 3",
   "language": "python",
   "name": "python3"
  },
  "language_info": {
   "codemirror_mode": {
    "name": "ipython",
    "version": 3
   },
   "file_extension": ".py",
   "mimetype": "text/x-python",
   "name": "python",
   "nbconvert_exporter": "python",
   "pygments_lexer": "ipython3",
   "version": "3.7.4"
  }
 },
 "nbformat": 4,
 "nbformat_minor": 2
}
